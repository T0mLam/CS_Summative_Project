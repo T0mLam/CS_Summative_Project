{
 "cells": [
  {
   "cell_type": "code",
   "execution_count": 1,
   "metadata": {},
   "outputs": [],
   "source": [
    "class Node:\n",
    "    \"\"\"\n",
    "    Creation of a Node class to represent nodes in the graph data structure\n",
    "    \"\"\"\n",
    "\n",
    "    def __init__(self, val: int):\n",
    "        \"\"\"\n",
    "        Initializes a Node object with the parameter value.\n",
    "\n",
    "        Args:\n",
    "            val: This are the values associated with the node.\n",
    "        \"\"\"\n",
    "        self.val = val\n",
    "        self.neighbours = {}  # A dictionary to keep the neighbours and their weightd\n",
    "\n",
    "    def add_neighbour(self, neighbour: type[Node], weight: int | float):\n",
    "        \"\"\"\n",
    "        Adds a neighbour to the nodes in the graph with an associated weight.\n",
    "\n",
    "        Args:\n",
    "            neighbour: Neighbour node to be added.\n",
    "            weight: the Weight of the edge connecting the neighbour to the node.\n",
    "            \n",
    "        Raises:\n",
    "            TypeError: If neighbour is not an instance of Node in the graph or if the weight inputed is not numeric (eg\" writing a word instead of a number\").\n",
    "        \"\"\"\n",
    "        if not isinstance(neighbour, Node):\n",
    "            raise TypeError(\"Neighbour must be an instance of Node.\")\n",
    "        if not isinstance(weight, (int, float)):\n",
    "            raise TypeError(\"Weight must be a numeric value.\")\n",
    "        \n",
    "        self.neighbours[neighbour] = weight\n",
    "\n",
    "    def __lt__(self, other: type[Node]):\n",
    "        \"\"\"\n",
    "        Compares two nodes based on their values.\n",
    "\n",
    "        Args:\n",
    "            other: Another node in the grpah to compare with.\n",
    "\n",
    "        Returns:\n",
    "            True if the value of the other node is greater than the value of the this node, False otherwise.\n",
    "        \"\"\"\n",
    "        return self.val < other.val"
   ]
  }
 ],
 "metadata": {
  "kernelspec": {
   "display_name": "Python 3 (ipykernel)",
   "language": "python",
   "name": "python3"
  },
  "language_info": {
   "codemirror_mode": {
    "name": "ipython",
    "version": 3
   },
   "file_extension": ".py",
   "mimetype": "text/x-python",
   "name": "python",
   "nbconvert_exporter": "python",
   "pygments_lexer": "ipython3",
   "version": "3.12.2 (v3.12.2:6abddd9f6a, Feb  6 2024, 17:02:06) [Clang 13.0.0 (clang-1300.0.29.30)]"
  },
  "vscode": {
   "interpreter": {
    "hash": "aee8b7b246df8f9039afb4144a1f6fd8d2ca17a180786b69acc140d282b71a49"
   }
  }
 },
 "nbformat": 4,
 "nbformat_minor": 4
}
