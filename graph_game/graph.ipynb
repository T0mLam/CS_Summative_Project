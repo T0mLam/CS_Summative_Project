{
 "cells": [
  {
   "cell_type": "code",
   "execution_count": 7,
   "metadata": {},
   "outputs": [],
   "source": [
    "from pyvis.network import Network\n",
    "import numpy as np\n",
    "import random as rand"
   ]
  },
  {
   "cell_type": "code",
   "execution_count": 9,
   "metadata": {},
   "outputs": [],
   "source": [
    "class Graph:\n",
    "    def __init__(self,\n",
    "                 num_nodes: int = 0,\n",
    "                 num_edges: int = 0) -> None:\n",
    "        \n",
    "        if not isinstance(num_nodes, int) or num_nodes < 0:\n",
    "            raise ValueError(\"Input parameter 'num_nodes' must be a non-negative integer\")\n",
    "        if not isinstance(num_edges, int) or num_edges < 0:\n",
    "            raise ValueError(\"Input parameter 'num_edges' must be a non-negative integer\")\n",
    "\n",
    "        self.network = Network()\n",
    "        self.num_nodes = num_nodes\n",
    "        self.num_edges = num_edges\n",
    "        self.starting_node = None\n",
    "        self.ending_node = None\n",
    "\n",
    "    def generate_nodes(self) -> None:\n",
    "        pass\n",
    "\n",
    "    def generate_edges(self) -> None:\n",
    "        pass\n",
    "\n",
    "    def delete_edges(self) -> None:\n",
    "        pass\n",
    "\n",
    "    def shortest_path(self) -> None:\n",
    "        pass\n",
    "\n",
    "    def visualize_graph(self) -> None:\n",
    "        pass\n",
    "    "
   ]
  },
  {
   "cell_type": "code",
   "execution_count": null,
   "metadata": {},
   "outputs": [],
   "source": []
  }
 ],
 "metadata": {
  "kernelspec": {
   "display_name": "base",
   "language": "python",
   "name": "python3"
  },
  "language_info": {
   "codemirror_mode": {
    "name": "ipython",
    "version": 3
   },
   "file_extension": ".py",
   "mimetype": "text/x-python",
   "name": "python",
   "nbconvert_exporter": "python",
   "pygments_lexer": "ipython3",
   "version": "3.11.5"
  },
  "orig_nbformat": 4,
  "vscode": {
   "interpreter": {
    "hash": "3335fda4603bf8d7dc1754420f377fea5720f5fde006b8f2e857c4017d18ee46"
   }
  }
 },
 "nbformat": 4,
 "nbformat_minor": 2
}
