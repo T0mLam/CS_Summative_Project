{
 "cells": [
  {
   "cell_type": "code",
   "execution_count": 7,
   "metadata": {},
   "outputs": [],
   "source": [
    "from pyvis.network import Network\n",
    "import numpy as np\n",
    "import random as rand"
   ]
  },
  {
   "cell_type": "code",
   "execution_count": 9,
   "metadata": {},
   "outputs": [],
   "source": [
    "class Graph:\n",
    "    \"\"\"\n",
    "    An undirected graph data structure storing uniquely indexed nodes with weighted edges\n",
    "\n",
    "    Attributes:\n",
    "        network: An instance of the Network class of the pyvis.network module\n",
    "        node_map: A hashmap mapping the index of the node to its Node object \n",
    "        node_idx_count: An integer count for indexing new nodes\n",
    "        num_nodes: The total number of nodes in the graph\n",
    "        num_edges: The total number of edges in the graph\n",
    "        starting_node: An integer index of the starting node defined by the user\n",
    "        ending_node: An integer index of the ending node defined by the user\n",
    "\n",
    "    Methods:\n",
    "        generate_random_nodes:\n",
    "        generate_random_edges:\n",
    "        delete_edges:\n",
    "        shortest_path:\n",
    "        visualize_graph:\n",
    "    \"\"\"\n",
    "\n",
    "    def __init__(self,\n",
    "                 init_num_nodes: int = 0,\n",
    "                 init_num_edges: int = 0) -> None:\n",
    "        \"\"\"\n",
    "        Construct all attributes of the graph data structure.\n",
    "\n",
    "        Args:\n",
    "            init_num_nodes: Number of randomly generated nodes during initialization.\n",
    "            init_num_edges: Number of randomly generated edges during initialization.\n",
    "\n",
    "        Raises:\n",
    "            ValueError: Errors caused by incorrect data type or invalid range inputs of \n",
    "                        parameters 'init_num_nodes' and 'init_num_edges'.\n",
    "        \"\"\"\n",
    "        if not isinstance(init_num_nodes, int) or init_num_nodes < 0:\n",
    "            raise ValueError(\"Input parameter 'init_num_nodes' must be a non-negative integer\")\n",
    "        if not isinstance(init_num_edges, int) or init_num_edges < 0:\n",
    "            raise ValueError(\"Input parameter 'init_num_edges' must be a non-negative integer\")\n",
    "\n",
    "        self.network = Network()\n",
    "        self.node_map = {}\n",
    "        self.node_idx_count = 1\n",
    "        self.num_nodes = 0\n",
    "        self.num_edges = 0\n",
    "        self.starting_node = None\n",
    "        self.ending_node = None\n",
    "\n",
    "        self.generate_random_edges(init_num_nodes)\n",
    "        self.generate_random_edges(init_num_edges)\n",
    "\n",
    "    def generate_random_nodes(self, num: int = 0) -> None:\n",
    "        if not isinstance(num, int) or num < 0:\n",
    "            raise ValueError(\"Input parameter 'num' must be a non-negative integer\") \n",
    "        \n",
    "        if num == 0:\n",
    "            num = rand.randint(10, 15)\n",
    "        self.num_nodes += num\n",
    "\n",
    "        while num:\n",
    "            self.__generate_node()\n",
    "            num -= 1\n",
    "\n",
    "    def generate_random_edges(self, num: int = 0) -> None:\n",
    "        pass\n",
    "\n",
    "    def delete_edges(self) -> None:\n",
    "        pass\n",
    "\n",
    "    def shortest_path(self) -> None:\n",
    "        pass\n",
    "\n",
    "    def visualize_graph(self) -> None:\n",
    "        pass\n",
    "    \n",
    "    def __generate_node(self) -> None:\n",
    "        pass"
   ]
  },
  {
   "cell_type": "code",
   "execution_count": null,
   "metadata": {},
   "outputs": [],
   "source": []
  }
 ],
 "metadata": {
  "kernelspec": {
   "display_name": "Python 3 (ipykernel)",
   "language": "python",
   "name": "python3"
  },
  "language_info": {
   "codemirror_mode": {
    "name": "ipython",
    "version": 3
   },
   "file_extension": ".py",
   "mimetype": "text/x-python",
   "name": "python",
   "nbconvert_exporter": "python",
   "pygments_lexer": "ipython3",
   "version": "3.11.5 (main, Sep 11 2023, 08:31:25) [Clang 14.0.6 ]"
  },
  "vscode": {
   "interpreter": {
    "hash": "3335fda4603bf8d7dc1754420f377fea5720f5fde006b8f2e857c4017d18ee46"
   }
  }
 },
 "nbformat": 4,
 "nbformat_minor": 4
}
