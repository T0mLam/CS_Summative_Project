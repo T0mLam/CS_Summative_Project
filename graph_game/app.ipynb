{
 "cells": [
  {
   "cell_type": "code",
   "execution_count": 2,
   "metadata": {},
   "outputs": [],
   "source": [
    "import tkinter as tk\n",
    "import networkx as nx\n",
    "import matplotlib.pyplot as plt\n",
    "from matplotlib.backends.backend_tkagg import FigureCanvasTkAgg"
   ]
  },
  {
   "cell_type": "code",
   "execution_count": 10,
   "metadata": {},
   "outputs": [],
   "source": [
    "class GraphApp(tk.Tk):\n",
    "    def __init__(self) -> None:\n",
    "        tk.Tk.__init__(self)\n",
    "        self.title('Graph Game')\n",
    "        self.geometry('800x600')\n",
    "    \n",
    "    def run(self) -> None:\n",
    "        self.mainloop()"
   ]
  },
  {
   "cell_type": "code",
   "execution_count": 11,
   "metadata": {},
   "outputs": [],
   "source": [
    "app = GraphApp()\n",
    "app.run()"
   ]
  }
 ],
 "metadata": {
  "kernelspec": {
   "display_name": "base",
   "language": "python",
   "name": "python3"
  },
  "language_info": {
   "codemirror_mode": {
    "name": "ipython",
    "version": 3
   },
   "file_extension": ".py",
   "mimetype": "text/x-python",
   "name": "python",
   "nbconvert_exporter": "python",
   "pygments_lexer": "ipython3",
   "version": "3.11.5"
  },
  "orig_nbformat": 4,
  "vscode": {
   "interpreter": {
    "hash": "3335fda4603bf8d7dc1754420f377fea5720f5fde006b8f2e857c4017d18ee46"
   }
  }
 },
 "nbformat": 4,
 "nbformat_minor": 2
}
