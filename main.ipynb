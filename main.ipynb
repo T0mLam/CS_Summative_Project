{
 "cells": [
  {
   "cell_type": "markdown",
   "metadata": {},
   "source": [
    "# __Graph Game__\n",
    "\n",
    "#### A game of chance... <br>\n",
    "\n",
    "created by Artem, Femi, Tom, Zifan <br>\n",
    "Github repo: __https://github.com/T0mLam/CS_Summative_Project__\n",
    "***"
   ]
  },
  {
   "attachments": {},
   "cell_type": "markdown",
   "metadata": {},
   "source": [
    "# Quickstart Guide"
   ]
  },
  {
   "cell_type": "markdown",
   "metadata": {},
   "source": [
    "## 1. Download all dependencies"
   ]
  },
  {
   "attachments": {},
   "cell_type": "markdown",
   "metadata": {},
   "source": [
    "- matplotlib\n",
    "- networkx\n",
    "- numpy\n",
    "- pygame\n",
    "- tkinter"
   ]
  },
  {
   "cell_type": "code",
   "execution_count": null,
   "metadata": {},
   "outputs": [],
   "source": [
    "%pip install matplotlib\n",
    "%pip install networkx\n",
    "%pip install numpy\n",
    "%pip install pygame\n",
    "%pip install tk"
   ]
  },
  {
   "attachments": {},
   "cell_type": "markdown",
   "metadata": {},
   "source": [
    "## 2. Create all modules"
   ]
  },
  {
   "attachments": {},
   "cell_type": "markdown",
   "metadata": {},
   "source": [
    "### Utilities modules \n",
    "These modules contain data structures required for the game."
   ]
  },
  {
   "attachments": {},
   "cell_type": "markdown",
   "metadata": {},
   "source": [
    "#### Node Class\n",
    "It contains the individual node of the graph data structure."
   ]
  },
  {
   "cell_type": "markdown",
   "metadata": {},
   "source": [
    "#### Heap Class"
   ]
  },
  {
   "cell_type": "code",
   "execution_count": 8,
   "metadata": {},
   "outputs": [],
   "source": [
    "from typing import List, Tuple"
   ]
  },
  {
   "cell_type": "code",
   "execution_count": null,
   "metadata": {},
   "outputs": [],
   "source": [
    "class MinHeap:\n",
    "    \"\"\"A minheap data structure that enables quick extraction of the minimum element.\n",
    "\n",
    "    Time Complexity:\n",
    "        Initialize / heapify O(n * log n)\n",
    "        Insertion O(log n)\n",
    "        Extract min O(log n)\n",
    "        Peak min O(1)\n",
    "    \n",
    "    Methods:\n",
    "        push: Push an element into the minheap.\n",
    "        pop: Remove and return the smallest element from the minheap.\n",
    "        top: Return the smallest element from the minheap without removing.\n",
    "    \"\"\"\n",
    "\n",
    "    def __init__(self, arr: List[Tuple[int, type[Node]]] | None = None) -> None:\n",
    "        \"\"\"Construct a heap by heapifying the input array.\n",
    "\n",
    "        Args:\n",
    "            arr: A list of tuple to be heapified during the initializing stage.\n",
    "                 For example: [(1, Node_Obj1), (2, Node_Obj2), ...]\n",
    "\n",
    "        Raises:\n",
    "            TypeError: An error due to the invalid input data type of arr.\n",
    "        \"\"\"\n",
    "        # Check whether the input array is a list \n",
    "        if arr and not isinstance(arr, list):\n",
    "            raise TypeError(\"The parameter 'arr' must be a python list\")\n",
    "\n",
    "        self.__heap = arr if arr else []\n",
    "        self.__heapify()\n",
    "\n",
    "    def __len__(self) -> int:\n",
    "        \"\"\"Return the number elements in the minheap.\n",
    "\n",
    "        Returns:\n",
    "            An integer representing the number of element in the current minheap.\n",
    "            For example: \n",
    "\n",
    "            heap = MinHeap([1, 2, 3, 4, 5]) \n",
    "            print(len(heap))\n",
    "            # Output: 5\n",
    "        \"\"\"\n",
    "        return len(self.__heap)\n",
    "    \n",
    "    def push(self, val: Tuple[int, type[Node]]) -> None:\n",
    "        \"\"\"Push the value into MinHeap.\n",
    "\n",
    "        Args:\n",
    "            val: Tuple with the integer and a node that will be pushed to the heap.\n",
    "        \"\"\"\n",
    "        #The current index where the new value will be put \n",
    "        curr = len(self.__heap)\n",
    "        #Append the new value to the heap\n",
    "        self.__heap.append(val)\n",
    "        #Using the __get_parent_idx to get parent index\n",
    "        parent = self.__get_parent_idx(curr)\n",
    "        \n",
    "        #Compare the new element with its parent to check if it is not bigger that its parent and swap if it is\n",
    "        while self.__heap[curr] < self.__heap[parent]:\n",
    "            self.__swap(curr, parent)\n",
    "            curr = parent\n",
    "            parent = self.__get_parent_idx(parent)\n",
    "        \n",
    "    def pop(self) -> Tuple[int, type[Node]]:\n",
    "        \"\"\"Returns and deletes the smallest element from the heap.\n",
    "\n",
    "        Returns:\n",
    "            A tuple consist of the an integer and a node object or None if the heap is empty.\n",
    "            For example:\n",
    "\n",
    "            heap = MinHeap([(1, Node_Obj1), (2, Node_Obj2), ...])\n",
    "            print(heap.pop())\n",
    "            # Output: (1, Node_Obj1)\n",
    "        \"\"\"\n",
    "        if not self.__heap:\n",
    "            return\n",
    "        #Change the root noed for th last node using the __swap method\n",
    "        self.__swap(0, len(self.__heap) - 1)\n",
    "        #Creating the variable for the smalelst item\n",
    "        min_element = self.__heap.pop()\n",
    "        #Using __sift down method for keeping the heap property\n",
    "        self.__sift_down(0)\n",
    "        #return the element\n",
    "        return min_element\n",
    "\n",
    "    def top(self) -> Tuple[int, type[Node]]:\n",
    "        \"\"\"Return the smallest element from the heap.\n",
    "\n",
    "        Returns:\n",
    "            A tuple consist of the an integer and a node object or None if the heap is empty.\n",
    "            For example:\n",
    "\n",
    "            heap = MinHeap([(1, Node_Obj1), (2, Node_Obj2), ...])\n",
    "            print(heap.top())\n",
    "            # Output: (1, Node_Obj1)\n",
    "        \"\"\"\n",
    "        if not self.__heap:\n",
    "            return\n",
    "        return self.__heap[0]\n",
    "\n",
    "    def __heapify(self) -> None:\n",
    "        \"\"\"Heapify the input array by sifting down all the non-leaf nodes.\"\"\"\n",
    "        for idx in range(len(self.__heap) // 2, -1, -1):\n",
    "            self.__sift_down(idx)\n",
    "\n",
    "    def __sift_down(self, idx: int) -> None:\n",
    "        \"\"\"A heap operation thats maintain the min heap structure.\n",
    "\n",
    "        It allocates the nodes with smallest values at the root and largest values at the leaves\n",
    "        by sifting down every nodes in the wrong positions.\n",
    "        \"\"\"\n",
    "        left_child_idx, right_child_idx = self.__get_left_child_idx(idx), self.__get_right_child_idx(idx)\n",
    "\n",
    "        # Check whether the current node has 2 children\n",
    "        if min(left_child_idx, right_child_idx) != -1:\n",
    "            # Check whether the current node is smaller than both its children\n",
    "            if min(self.__heap[idx],\n",
    "                   self.__heap[left_child_idx],\n",
    "                   self.__heap[right_child_idx]) != self.__heap[idx]:\n",
    "                # If the left child is smaller than the right child,\n",
    "                # swap the left child with the current node and sift down the left child\n",
    "                if self.__heap[left_child_idx] < self.__heap[right_child_idx]:\n",
    "                    self.__swap(idx, left_child_idx)\n",
    "                    self.__sift_down(left_child_idx)\n",
    "                # Otherwise, swap the right child with the current node and sift down the right child\n",
    "                else:\n",
    "                    self.__swap(idx, right_child_idx)\n",
    "                    self.__sift_down(right_child_idx)\n",
    "            \n",
    "        # Else if the current node is larger than its only left child,\n",
    "        # swap the left child with the current node and sift down the left child\n",
    "        elif (left_child_idx != -1 and\n",
    "              self.__heap[left_child_idx] < self.__heap[idx]):\n",
    "            self.__swap(idx, left_child_idx)\n",
    "            self.__sift_down(left_child_idx)\n",
    "    \n",
    "        # Else if the current node is larger than its only right child,\n",
    "        # swap the right child with the current node and sift down the right child\n",
    "        elif (right_child_idx != -1 and\n",
    "              self.__heap[right_child_idx] < self.__heap[idx]):\n",
    "            self.__swap(idx, right_child_idx)\n",
    "            self.__sift_down(right_child_idx)\n",
    "     \n",
    "    def __swap(self, idx1: int, idx2: int) -> None:\n",
    "        \"\"\"Swap the elements with index idx1 and idx2 in the heap.\"\"\"\n",
    "        self.__heap[idx1], self.__heap[idx2] = self.__heap[idx2], self.__heap[idx1]\n",
    "\n",
    "    def __get_parent_idx(self, idx: int) -> int:\n",
    "        \"\"\"Get the parent of the element with index idx.\n",
    "\n",
    "        Returns:\n",
    "            An integer representing the index of the parent, or -1 if no parent is found.\n",
    "        \"\"\"\n",
    "        return idx // 2\n",
    "    \n",
    "    def __get_left_child_idx(self, idx: int) -> int:\n",
    "        \"\"\"Get the left child of the element with index idx.\n",
    "\n",
    "        Returns:\n",
    "            An integer representing the index of the left child, or -1 if no left child is found.\n",
    "        \"\"\"\n",
    "        left_child_idx = 2 * idx + 1\n",
    "        return left_child_idx if left_child_idx < len(self.__heap) else -1\n",
    "\n",
    "    def __get_right_child_idx(self, idx: int) -> int:\n",
    "        \"\"\"Get the right child of the element with index idx.\n",
    "\n",
    "        Returns:\n",
    "            An integer representing the index of the right child, or -1 if no right child is found. \n",
    "        \"\"\"\n",
    "        right_child_idx = 2 * idx + 2\n",
    "        return right_child_idx if right_child_idx < len(self.__heap) else -1"
   ]
  },
  {
   "cell_type": "markdown",
   "metadata": {
    "tags": []
   },
   "source": [
    "#### RandomisedSet Class"
   ]
  },
  {
   "attachments": {},
   "cell_type": "markdown",
   "metadata": {},
   "source": [
    "#### Trie Class"
   ]
  },
  {
   "attachments": {},
   "cell_type": "markdown",
   "metadata": {},
   "source": [
    "### Game Logic Modules\n",
    "These modules contain the game logic and the user interface of the game."
   ]
  },
  {
   "cell_type": "markdown",
   "metadata": {
    "jp-MarkdownHeadingCollapsed": true,
    "tags": []
   },
   "source": [
    "#### Graph Class"
   ]
  },
  {
   "cell_type": "code",
   "execution_count": null,
   "metadata": {},
   "outputs": [],
   "source": []
  },
  {
   "attachments": {},
   "cell_type": "markdown",
   "metadata": {},
   "source": [
    "#### GraphGame Class"
   ]
  },
  {
   "attachments": {},
   "cell_type": "markdown",
   "metadata": {},
   "source": [
    "#### GraphGameGUI Class"
   ]
  },
  {
   "attachments": {},
   "cell_type": "markdown",
   "metadata": {
    "tags": []
   },
   "source": [
    "## 3. Run all the unit tests"
   ]
  },
  {
   "cell_type": "markdown",
   "metadata": {
    "tags": []
   },
   "source": [
    "## 4. Start the app"
   ]
  }
 ],
 "metadata": {
  "kernelspec": {
   "display_name": "Python 3 (ipykernel)",
   "language": "python",
   "name": "python3"
  },
  "language_info": {
   "codemirror_mode": {
    "name": "ipython",
    "version": 3
   },
   "file_extension": ".py",
   "mimetype": "text/x-python",
   "name": "python",
   "nbconvert_exporter": "python",
   "pygments_lexer": "ipython3",
   "version": "3.11.8 | packaged by conda-forge | (main, Feb 16 2024, 20:49:36) [Clang 16.0.6 ]"
  },
  "vscode": {
   "interpreter": {
    "hash": "3335fda4603bf8d7dc1754420f377fea5720f5fde006b8f2e857c4017d18ee46"
   }
  }
 },
 "nbformat": 4,
 "nbformat_minor": 4
}
