{
 "cells": [
  {
   "cell_type": "markdown",
   "metadata": {},
   "source": [
    "# __Graph Game__\n",
    "\n",
    "#### A game of chance... <br>\n",
    "\n",
    "created by Artem, Femi, Tom, Zifan <br>\n",
    "Github repo: __https://github.com/T0mLam/CS_Summative_Project__\n",
    "***"
   ]
  },
  {
   "attachments": {},
   "cell_type": "markdown",
   "metadata": {},
   "source": [
    "# Quickstart Guide"
   ]
  },
  {
   "cell_type": "markdown",
   "metadata": {},
   "source": [
    "## 1. Download all dependencies"
   ]
  },
  {
   "attachments": {},
   "cell_type": "markdown",
   "metadata": {},
   "source": [
    "- matplotlib\n",
    "- networkx\n",
    "- numpy\n",
    "- pygame\n",
    "- tkinter"
   ]
  },
  {
   "cell_type": "code",
   "execution_count": null,
   "metadata": {},
   "outputs": [],
   "source": [
    "%pip install matplotlib\n",
    "%pip install networkx\n",
    "%pip install numpy\n",
    "%pip install pygame\n",
    "%pip install tk"
   ]
  },
  {
   "attachments": {},
   "cell_type": "markdown",
   "metadata": {},
   "source": [
    "## 2. Create all modules"
   ]
  },
  {
   "cell_type": "code",
   "execution_count": null,
   "metadata": {},
   "outputs": [],
   "source": [
    "from __future__ import annotations\n",
    "from typing import List, Tuple, Dict"
   ]
  },
  {
   "cell_type": "code",
   "execution_count": null,
   "metadata": {},
   "outputs": [],
   "source": [
    "import random as rand"
   ]
  },
  {
   "attachments": {},
   "cell_type": "markdown",
   "metadata": {},
   "source": [
    "### Utilities modules \n",
    "These modules contain data structures required for the game."
   ]
  },
  {
   "attachments": {},
   "cell_type": "markdown",
   "metadata": {},
   "source": [
    "#### Node Class\n",
    "An individual node of the graph data structure."
   ]
  },
  {
   "cell_type": "code",
   "execution_count": null,
   "metadata": {},
   "outputs": [],
   "source": [
    "class Node:\n",
    "    \"\"\"Creation of a Node class to represent nodes in the graph data structure.\"\"\"\n",
    "\n",
    "    def __init__(self, idx: int) -> None:\n",
    "        \"\"\"Initializes a Node object with the parameter value.\n",
    "\n",
    "        Args:\n",
    "            idx (int): This are the values associated with the node.\n",
    "        \"\"\"\n",
    "        self.idx = idx\n",
    "        self.neighbours = {}  # A dictionary to keep the neighbours and their weight\n",
    "\n",
    "    def __lt__(self, other: type[Node]) -> bool:\n",
    "        \"\"\"Compares two nodes based on their values.\n",
    "\n",
    "        Args:\n",
    "            other (Node): Another node in the graph to compare with.\n",
    "\n",
    "        Returns:\n",
    "            True if the value of the other node is greater than the value of the this node, False otherwise.\n",
    "        \"\"\"\n",
    "        return self.idx < other.idx\n",
    "\n",
    "    def add_neighbour(self, neighbour: type[Node], weight: int | float) -> None: \n",
    "        \"\"\"Adds a neighbour to the nodes in the graph with an associated weight.\n",
    "\n",
    "        Args:\n",
    "            neighbour (Node): Neighbour node to be added.\n",
    "            weight (int, float): the Weight of the edge connecting the neighbour to the node.\n",
    "            \n",
    "        Raises:\n",
    "            TypeError: If neighbour is not an instance of Node in the graph or if the weight inputed is not numeric (eg\" writing a word instead of a number\").\n",
    "        \"\"\"\n",
    "        if not isinstance(neighbour, Node):\n",
    "            raise TypeError(\"Neighbour must be an instance of Node.\")\n",
    "        if not isinstance(weight, (int, float)):\n",
    "            raise TypeError(\"Weight must be a numeric value.\")\n",
    "        \n",
    "        self.neighbours[neighbour] = weight\n",
    "\n",
    "    def get_index(self) -> int:\n",
    "        \"\"\"A getter method for the idx attribute.\n",
    "\n",
    "        Returns:\n",
    "            An integer index of the node.\n",
    "        \"\"\"\n",
    "        return self.idx\n",
    "    \n",
    "    def get_neighbours(self) -> List[Tuple[int, int]]:\n",
    "        \"\"\"A getter method for the neighbours attribute.\n",
    "\n",
    "        Returns:\n",
    "            A List of tuples (idx, wei) consist of the index (idx) and the weight (wei) of each node.\n",
    "        \"\"\"\n",
    "        return self.neighbours.items()"
   ]
  },
  {
   "attachments": {},
   "cell_type": "markdown",
   "metadata": {},
   "source": [
    "#### Heap Class\n",
    "A minheap data structure which enables the quick extraction of the minimum element. <br>\n",
    "It is utilized in the shortest path method and the fizzy search method."
   ]
  },
  {
   "cell_type": "code",
   "execution_count": null,
   "metadata": {},
   "outputs": [],
   "source": [
    "class MinHeap:\n",
    "    \"\"\"A minheap data structure that enables quick extraction of the minimum element.\n",
    "\n",
    "    Time Complexity:\n",
    "        Initialize / heapify O(n * log n)\n",
    "        Insertion O(log n)\n",
    "        Extract min O(log n)\n",
    "        Peak min O(1)\n",
    "    \n",
    "    Methods:\n",
    "        push: Push an element into the minheap.\n",
    "        pop: Remove and return the smallest element from the minheap.\n",
    "        top: Return the smallest element from the minheap without removing.\n",
    "    \"\"\"\n",
    "\n",
    "    def __init__(self, arr: List[Tuple[int, type[Node]]] | None = None) -> None:\n",
    "        \"\"\"Construct a heap by heapifying the input array.\n",
    "\n",
    "        Args:\n",
    "            arr: A list of tuple to be heapified during the initializing stage.\n",
    "                 For example: [(1, Node_Obj1), (2, Node_Obj2), ...]\n",
    "\n",
    "        Raises:\n",
    "            TypeError: An error due to the invalid input data type of arr.\n",
    "        \"\"\"\n",
    "        # Check whether the input array is a list \n",
    "        if arr and not isinstance(arr, list):\n",
    "            raise TypeError(\"The parameter 'arr' must be a python list\")\n",
    "\n",
    "        self.__heap = arr if arr else []\n",
    "        self.__heapify()\n",
    "\n",
    "    def __len__(self) -> int:\n",
    "        \"\"\"Return the number elements in the minheap.\n",
    "\n",
    "        Returns:\n",
    "            An integer representing the number of element in the current minheap.\n",
    "            For example: \n",
    "\n",
    "            heap = MinHeap([1, 2, 3, 4, 5]) \n",
    "            print(len(heap))\n",
    "            # Output: 5\n",
    "        \"\"\"\n",
    "        return len(self.__heap)\n",
    "    \n",
    "    def push(self, val: Tuple[int, type[Node]]) -> None:\n",
    "        \"\"\"Push the value into MinHeap.\n",
    "\n",
    "        Args:\n",
    "            val: Tuple with the integer and a node that will be pushed to the heap.\n",
    "        \"\"\"\n",
    "        #The current index where the new value will be put \n",
    "        curr = len(self.__heap)\n",
    "        #Append the new value to the heap\n",
    "        self.__heap.append(val)\n",
    "        #Using the __get_parent_idx to get parent index\n",
    "        parent = self.__get_parent_idx(curr)\n",
    "        \n",
    "        #Compare the new element with its parent to check if it is not bigger that its parent and swap if it is\n",
    "        while self.__heap[curr] < self.__heap[parent]:\n",
    "            self.__swap(curr, parent)\n",
    "            curr = parent\n",
    "            parent = self.__get_parent_idx(parent)\n",
    "        \n",
    "    def pop(self) -> Tuple[int, type[Node]]:\n",
    "        \"\"\"Returns and deletes the smallest element from the heap.\n",
    "\n",
    "        Returns:\n",
    "            A tuple consist of the an integer and a node object or None if the heap is empty.\n",
    "            For example:\n",
    "\n",
    "            heap = MinHeap([(1, Node_Obj1), (2, Node_Obj2), ...])\n",
    "            print(heap.pop())\n",
    "            # Output: (1, Node_Obj1)\n",
    "        \"\"\"\n",
    "        if not self.__heap:\n",
    "            return\n",
    "        #Change the root noed for th last node using the __swap method\n",
    "        self.__swap(0, len(self.__heap) - 1)\n",
    "        #Creating the variable for the smalelst item\n",
    "        min_element = self.__heap.pop()\n",
    "        #Using __sift down method for keeping the heap property\n",
    "        self.__sift_down(0)\n",
    "        #return the element\n",
    "        return min_element\n",
    "\n",
    "    def top(self) -> Tuple[int, type[Node]]:\n",
    "        \"\"\"Return the smallest element from the heap.\n",
    "\n",
    "        Returns:\n",
    "            A tuple consist of the an integer and a node object or None if the heap is empty.\n",
    "            For example:\n",
    "\n",
    "            heap = MinHeap([(1, Node_Obj1), (2, Node_Obj2), ...])\n",
    "            print(heap.top())\n",
    "            # Output: (1, Node_Obj1)\n",
    "        \"\"\"\n",
    "        if not self.__heap:\n",
    "            return\n",
    "        return self.__heap[0]\n",
    "\n",
    "    def __heapify(self) -> None:\n",
    "        \"\"\"Heapify the input array by sifting down all the non-leaf nodes.\"\"\"\n",
    "        for idx in range(len(self.__heap) // 2, -1, -1):\n",
    "            self.__sift_down(idx)\n",
    "\n",
    "    def __sift_down(self, idx: int) -> None:\n",
    "        \"\"\"A heap operation thats maintain the min heap structure.\n",
    "\n",
    "        It allocates the nodes with smallest values at the root and largest values at the leaves\n",
    "        by sifting down every nodes in the wrong positions.\n",
    "        \"\"\"\n",
    "        left_child_idx, right_child_idx = self.__get_left_child_idx(idx), self.__get_right_child_idx(idx)\n",
    "\n",
    "        # Check whether the current node has 2 children\n",
    "        if min(left_child_idx, right_child_idx) != -1:\n",
    "            # Check whether the current node is smaller than both its children\n",
    "            if min(self.__heap[idx],\n",
    "                   self.__heap[left_child_idx],\n",
    "                   self.__heap[right_child_idx]) != self.__heap[idx]:\n",
    "                # If the left child is smaller than the right child,\n",
    "                # swap the left child with the current node and sift down the left child\n",
    "                if self.__heap[left_child_idx] < self.__heap[right_child_idx]:\n",
    "                    self.__swap(idx, left_child_idx)\n",
    "                    self.__sift_down(left_child_idx)\n",
    "                # Otherwise, swap the right child with the current node and sift down the right child\n",
    "                else:\n",
    "                    self.__swap(idx, right_child_idx)\n",
    "                    self.__sift_down(right_child_idx)\n",
    "            \n",
    "        # Else if the current node is larger than its only left child,\n",
    "        # swap the left child with the current node and sift down the left child\n",
    "        elif (left_child_idx != -1 and\n",
    "              self.__heap[left_child_idx] < self.__heap[idx]):\n",
    "            self.__swap(idx, left_child_idx)\n",
    "            self.__sift_down(left_child_idx)\n",
    "    \n",
    "        # Else if the current node is larger than its only right child,\n",
    "        # swap the right child with the current node and sift down the right child\n",
    "        elif (right_child_idx != -1 and\n",
    "              self.__heap[right_child_idx] < self.__heap[idx]):\n",
    "            self.__swap(idx, right_child_idx)\n",
    "            self.__sift_down(right_child_idx)\n",
    "     \n",
    "    def __swap(self, idx1: int, idx2: int) -> None:\n",
    "        \"\"\"Swap the elements with index idx1 and idx2 in the heap.\"\"\"\n",
    "        self.__heap[idx1], self.__heap[idx2] = self.__heap[idx2], self.__heap[idx1]\n",
    "\n",
    "    def __get_parent_idx(self, idx: int) -> int:\n",
    "        \"\"\"Get the parent of the element with index idx.\n",
    "\n",
    "        Returns:\n",
    "            An integer representing the index of the parent, or -1 if no parent is found.\n",
    "        \"\"\"\n",
    "        return idx // 2\n",
    "    \n",
    "    def __get_left_child_idx(self, idx: int) -> int:\n",
    "        \"\"\"Get the left child of the element with index idx.\n",
    "\n",
    "        Returns:\n",
    "            An integer representing the index of the left child, or -1 if no left child is found.\n",
    "        \"\"\"\n",
    "        left_child_idx = 2 * idx + 1\n",
    "        return left_child_idx if left_child_idx < len(self.__heap) else -1\n",
    "\n",
    "    def __get_right_child_idx(self, idx: int) -> int:\n",
    "        \"\"\"Get the right child of the element with index idx.\n",
    "\n",
    "        Returns:\n",
    "            An integer representing the index of the right child, or -1 if no right child is found. \n",
    "        \"\"\"\n",
    "        right_child_idx = 2 * idx + 2\n",
    "        return right_child_idx if right_child_idx < len(self.__heap) else -1"
   ]
  },
  {
   "attachments": {},
   "cell_type": "markdown",
   "metadata": {
    "tags": []
   },
   "source": [
    "#### RandomisedSet Class\n",
    "A set data structure which enables O(1) (constant time) insertion, removal and random extraction of elements at the expense of additional memory. <br>\n",
    "It is used for storing the unconnected edges for the random graph generation in the Graph class."
   ]
  },
  {
   "cell_type": "code",
   "execution_count": null,
   "metadata": {},
   "outputs": [],
   "source": [
    "class RandomisedSet:\n",
    "    \"\"\"A randomised set which enables the insertion, deletion and random extraction of edges in O(1) (constant) time.\n",
    "\n",
    "    Attributes:\n",
    "        edges: A list storing non-duplicate edges that are not connected in the graph.\n",
    "        edge_to_idx: A hashmap mapping the edges to the indices they are stored in the edges list.\n",
    "\n",
    "    Methods:\n",
    "        add_edges_from_node: Add available edges connected to all nodes from the input node.\n",
    "        add_edge_to_set: Add an edge to the randomised set.\n",
    "        remove_edge_from_set: Remove an edge from the randomised set.\n",
    "        get_random_edge: Extract a random available edge.\n",
    "    \"\"\"\n",
    "\n",
    "    def __init__(self) -> None:\n",
    "        \"\"\"Construct the attributes of the set.\"\"\"\n",
    "        self.edges = []\n",
    "        self.edge_to_idx = {}\n",
    "\n",
    "    def __contains__(self, item: Tuple[int, int]) -> bool:\n",
    "        \"\"\"Enable the use of membership test operators (in & not in) for the class.\n",
    "\n",
    "        Args:\n",
    "            item (tuple): A tuple to be checked whether it is contained in the edges set.\n",
    "\n",
    "        Returns:\n",
    "            True if the edge is found, false otherwise.\n",
    "        \"\"\"\n",
    "        idx1, idx2 = item\n",
    "        return (idx1, idx2) in self.edge_to_idx or (idx2, idx1) in self.edge_to_idx\n",
    "\n",
    "    def add_edges_from_node(self, idx: int, nodes: List[int]) -> None:\n",
    "        \"\"\"Add outcoming edges to the set from a new node.\n",
    "        \n",
    "        For example:\n",
    "        idx: 5\n",
    "        nodes: [1, 3, 7, 8]\n",
    "        # New edges created: (1, 5), (3, 5), (5, 7), (5, 8)\n",
    "\n",
    "        Notes: \n",
    "            Adding n edges in O(n) time, where n = num of input nodes.\n",
    "            Amortized time complexity for adding an edge: O(1).\n",
    "\n",
    "        Args:\n",
    "            idx (int): The index of the new node.\n",
    "            nodes (list): The indices of the existing nodes.\n",
    "\n",
    "        Raises:\n",
    "            TypeError: Errors caused by incompatible input data type of 'idx' and 'nodes'.\n",
    "        \"\"\"\n",
    "        # Check data types of parameters 'idx' and 'nodes'\n",
    "        if not isinstance(idx, int):\n",
    "            raise TypeError(\"The input parameter 'idx' must be an integer\")\n",
    "        if (not isinstance(nodes, list) or \n",
    "            not all([isinstance(node, int) for node in nodes])):\n",
    "            raise TypeError(\"The input parameter 'nodes' must be a list of integers\")\n",
    "\n",
    "        # Add the new edges to the set\n",
    "        for node_idx in nodes:\n",
    "            # Skip to the next iteration if the index of starting node = ending node\n",
    "            if node_idx == idx:\n",
    "                continue\n",
    "            # Format the new edge as (u, v), where u < v\n",
    "            mn, mx = min(idx, node_idx), max(idx, node_idx)\n",
    "            new_edge = (mn, mx)\n",
    "\n",
    "            # Check whether the new edge exists\n",
    "            if new_edge not in self.edge_to_idx:\n",
    "                # If not, add it to the list and map the edge to its indices in the list\n",
    "                self.edge_to_idx[new_edge] = len(self.edges)\n",
    "                self.edges.append(new_edge)\n",
    "\n",
    "    def add_edge_to_set(self, idx1: int, idx2: int) -> None:\n",
    "        \"\"\"Add an edge to the randomised set.\n",
    "\n",
    "        Args:\n",
    "            idx1 (int): Index of the first node.\n",
    "            idx2 (int): Index of the second node.\n",
    "\n",
    "        Raises:\n",
    "            TypeError: Error occurs if the node indices are not integers.\n",
    "            ValueError: Error occurs if the node indices are out of bounds.\n",
    "        \"\"\"\n",
    "        # Check if indices are integers\n",
    "        if not isinstance(idx1, int) or not isinstance(idx2, int):\n",
    "            raise TypeError(\"Node indices must be integers.\")\n",
    "\n",
    "        # Check if indices are greater than 0\n",
    "        if idx1 < 1 or idx2 < 1:\n",
    "            raise ValueError(\"Node indices must be positive.\")\n",
    "        \n",
    "        # making sure idx1 is less than idx2 to maintain consistency\n",
    "        idx1, idx2 = min(idx1, idx2), max(idx1, idx2)\n",
    "        new_edge = (idx1, idx2)\n",
    "\n",
    "        # Add the new edge to the randomised set \n",
    "        if new_edge not in self.edge_to_idx:\n",
    "            self.edge_to_idx[new_edge] = len(self.edges)\n",
    "            self.edges.append(new_edge)\n",
    "\n",
    "    def remove_edge_from_set(self, idx1: int, idx2: int) -> None:\n",
    "        \"\"\"Remove an edge from the set.\n",
    "\n",
    "        Notes:\n",
    "            First swap the target edge with the last edge in the edges list and pop it out of the list.\n",
    "            \n",
    "        Args:\n",
    "            idx1 (int): Index of the first node.\n",
    "            idx2 (int): Index of the second node.\n",
    "\n",
    "        Raises:\n",
    "            TypeError: Error occurs if the node indices are not integers.\n",
    "            ValueError: Error occurs if the edge does not exist.\n",
    "        \"\"\"\n",
    "        # Check if indices are integers\n",
    "        if not isinstance(idx1, int) or not isinstance(idx2, int):\n",
    "            raise TypeError(\"Node indices must be integers.\")\n",
    "\n",
    "        # Check if indices exist in the set\n",
    "        removing_edge = (min(idx1, idx2), max(idx1, idx2))\n",
    "        if removing_edge not in self.edge_to_idx:\n",
    "            raise ValueError(\"The edge does not exist in the set\") \n",
    "        \n",
    "        # Get the indices of the edge to be removed and the last edge in the list\n",
    "        removing_edge_index = self.edge_to_idx[removing_edge]\n",
    "        last_edge = self.edges[-1]\n",
    "\n",
    "        # Replace the edge to be removed with the last edges and change the corresponding index in the node map\n",
    "        self.edge_to_idx[last_edge] = removing_edge_index\n",
    "        self.edges[removing_edge_index] = last_edge\n",
    "\n",
    "        # Remove the last entry in the edges list and delete the index map for the removed edge \n",
    "        self.edges.pop()\n",
    "        del self.edge_to_idx[removing_edge]\n",
    "\n",
    "    def get_random_edge(self) -> Tuple[int, int]:\n",
    "        \"\"\"Extract and remove a random available edge from the set.\n",
    "\n",
    "        Returns:\n",
    "            A tuple consists of the start and end of the edge. For example: (1, 2).\n",
    "        \"\"\"\n",
    "        if not self.edges:\n",
    "            return\n",
    "        \n",
    "        # Randomly select an edge from the list\n",
    "        edge_idx = rand.randint(0, len(self.edges) - 1)\n",
    "        edge = self.edges[edge_idx]\n",
    "\n",
    "        # Delete the edge from the set and return it\n",
    "        self.remove_edge_from_set(*edge)\n",
    "        return edge"
   ]
  },
  {
   "attachments": {},
   "cell_type": "markdown",
   "metadata": {},
   "source": [
    "#### Trie Class"
   ]
  },
  {
   "cell_type": "markdown",
   "metadata": {
    "jp-MarkdownHeadingCollapsed": true,
    "tags": []
   },
   "source": [
    "#### Graph Class"
   ]
  },
  {
   "attachments": {},
   "cell_type": "markdown",
   "metadata": {},
   "source": [
    "### Additional Features Module\n",
    "These modules contain the database for storing player data and the leaderboard search engine for searching players."
   ]
  },
  {
   "attachments": {},
   "cell_type": "markdown",
   "metadata": {},
   "source": [
    "#### DatabaseConnection Class"
   ]
  },
  {
   "attachments": {},
   "cell_type": "markdown",
   "metadata": {},
   "source": [
    "#### SearchEngine Class"
   ]
  },
  {
   "attachments": {},
   "cell_type": "markdown",
   "metadata": {},
   "source": [
    "### Game Logic Modules\n",
    "These modules contain the game logic and the user interface of the game."
   ]
  },
  {
   "attachments": {},
   "cell_type": "markdown",
   "metadata": {},
   "source": [
    "#### GraphGame Class"
   ]
  },
  {
   "attachments": {},
   "cell_type": "markdown",
   "metadata": {},
   "source": [
    "#### GraphGameGUI Class"
   ]
  },
  {
   "cell_type": "code",
   "execution_count": null,
   "metadata": {},
   "outputs": [],
   "source": [
    "class GraphGameGUI:\n",
    "    pass"
   ]
  },
  {
   "attachments": {},
   "cell_type": "markdown",
   "metadata": {
    "tags": []
   },
   "source": [
    "## 3. Run all the unit tests"
   ]
  },
  {
   "cell_type": "markdown",
   "metadata": {
    "tags": []
   },
   "source": [
    "## 4. Start the app"
   ]
  },
  {
   "cell_type": "code",
   "execution_count": null,
   "metadata": {},
   "outputs": [],
   "source": [
    "app = GraphGameGUI()\n",
    "app.mainloop()"
   ]
  }
 ],
 "metadata": {
  "kernelspec": {
   "display_name": "Python 3 (ipykernel)",
   "language": "python",
   "name": "python3"
  },
  "language_info": {
   "codemirror_mode": {
    "name": "ipython",
    "version": 3
   },
   "file_extension": ".py",
   "mimetype": "text/x-python",
   "name": "python",
   "nbconvert_exporter": "python",
   "pygments_lexer": "ipython3",
   "version": "3.11.8 | packaged by conda-forge | (main, Feb 16 2024, 20:49:36) [Clang 16.0.6 ]"
  },
  "vscode": {
   "interpreter": {
    "hash": "3335fda4603bf8d7dc1754420f377fea5720f5fde006b8f2e857c4017d18ee46"
   }
  }
 },
 "nbformat": 4,
 "nbformat_minor": 4
}
